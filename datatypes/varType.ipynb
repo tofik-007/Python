{
 "cells": [
  {
   "cell_type": "markdown",
   "metadata": {},
   "source": [
    "datatype"
   ]
  },
  {
   "cell_type": "code",
   "execution_count": null,
   "metadata": {},
   "outputs": [],
   "source": [
    "taufik = \"cars\"\n",
    "x = 55\n",
    "y = \"taufik\"\n",
    "z = 50.25\n",
    "m = 'k'\n",
    "l = 'l'\n",
    "s = \"happines can\" #tuple while() isn't there\n",
    "print(\"tyoe of s is \",type(s))\n",
    "print(\"x + z\",x+z) #int + float = float\n",
    "# print(s + y) #str + tuple typeerror\n",
    "#gives the type\n",
    "print(type(x))\n",
    "# #data type conversion\n",
    "print(float(x))\n",
    "# list with frozenset\n",
    "list = [1,2,3,4,5,6]\n",
    "fset = frozenset(list)\n",
    "# fset[1] = \"hi\" #doesn't support  item assignment\n",
    "print(list)\n",
    "print(fset)\n",
    "print(\"printable form of y is \",repr(y)) #convert string in a expressionss 'string'\n",
    "print(\"evaluate y as \",eval(y))\n",
    "print(tuple(s)) #seprate the words from the strings\n",
    "# print(list(s)) #seprate the words from the strings\n",
    "print(\"frozen set is : \",frozenset(s)) #frozen can't be changed\n",
    "print(chr(x))\n",
    "print(\"ascii value of A is :\",ord(\"A\")) # kind of a= 96 value\n",
    "\n"
   ]
  },
  {
   "cell_type": "markdown",
   "metadata": {},
   "source": [
    "unicode of integer"
   ]
  },
  {
   "cell_type": "code",
   "execution_count": null,
   "metadata": {},
   "outputs": [],
   "source": [
    "i = int(input(\"enter a number to print it unicodes : \"))\n",
    "while i < 55296:\n",
    "    print(i,\"for\",chr(i))\n",
    "    i += 1\n",
    "#55296 is limit"
   ]
  },
  {
   "cell_type": "markdown",
   "metadata": {},
   "source": [
    "hex code from hex(x)"
   ]
  },
  {
   "cell_type": "code",
   "execution_count": null,
   "metadata": {},
   "outputs": [],
   "source": [
    "i = 1\n",
    "while i < 1000:\n",
    "  print(hex(i))\n",
    "  i += 1\n"
   ]
  },
  {
   "cell_type": "markdown",
   "metadata": {},
   "source": [
    "chr(x) : ascii value\n"
   ]
  },
  {
   "cell_type": "code",
   "execution_count": null,
   "metadata": {},
   "outputs": [],
   "source": [
    "i = 65\n",
    "while i < 100:\n",
    "    print(chr(i))\n",
    "    i += 1"
   ]
  }
 ],
 "metadata": {
  "kernelspec": {
   "display_name": "Python 3.10.7 64-bit (microsoft store)",
   "language": "python",
   "name": "python3"
  },
  "language_info": {
   "codemirror_mode": {
    "name": "ipython",
    "version": 3
   },
   "file_extension": ".py",
   "mimetype": "text/x-python",
   "name": "python",
   "nbconvert_exporter": "python",
   "pygments_lexer": "ipython3",
   "version": "3.10.7"
  },
  "orig_nbformat": 4,
  "vscode": {
   "interpreter": {
    "hash": "84fd2673a0f847bf80637898000f9b4175f2ffd476d5f31b41a838c2acdb5b76"
   }
  }
 },
 "nbformat": 4,
 "nbformat_minor": 2
}
