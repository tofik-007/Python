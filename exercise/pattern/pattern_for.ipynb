{
 "cells": [
  {
   "cell_type": "markdown",
   "metadata": {},
   "source": [
    "Square pattern"
   ]
  },
  {
   "cell_type": "code",
   "execution_count": null,
   "metadata": {},
   "outputs": [],
   "source": [
    "# n = 5\n",
    "# i = 1\n",
    "# while i <= n:\n",
    "#     j = 1\n",
    "#     while j <= n:\n",
    "#         # print(i,end=\"\")\n",
    "#         # print(n-i+1,end=\"\")\n",
    "#         print(i * 2 - 1,end=\"\")\n",
    "#         # print(j * 2 - 1,end=\"\")\n",
    "#         # print(n-j+1,end=\"\")\n",
    "#         # print(j,end=\"\")\n",
    "#         # print(\"*\",end=\"\")\n",
    "#         j = j + 1\n",
    "#     print()\n",
    "#     i = i + 1\n",
    "#with for loop it's easy\n",
    "n = 4\n",
    "for i in range(n):\n",
    "    for j in range(n): \n",
    "        print(\"*\",end=\"\")      \n",
    "    print()     "
   ]
  },
  {
   "cell_type": "markdown",
   "metadata": {},
   "source": [
    "U -> D : increment"
   ]
  },
  {
   "cell_type": "code",
   "execution_count": null,
   "metadata": {},
   "outputs": [],
   "source": [
    "n = 4\n",
    "# i = 1\n",
    "# while i <= n:\n",
    "#     j = 1\n",
    "#     while j <= i:\n",
    "#         print(\"*\",end=\"\")\n",
    "#         # print(i,end=\"\")\n",
    "#         # print(n - j + 1,end=\"\")\n",
    "#         # print(n - i + 1,end=\"\")\n",
    "#         # print(i * 2 + 1,end=\"\")\n",
    "#         # print(i * 2 - 1,end=\"\")\n",
    "#         # print(j,end=\"\")\n",
    "#         j = j + 1\n",
    "#     print()\n",
    "#     i = i + 1\n",
    "#with for loop\n",
    "for i in range(n):\n",
    "        for j in range(i+1):\n",
    "            # print(\"*\", end=' ')\n",
    "            print(\"*\", end=' ')\n",
    "        print()"
   ]
  },
  {
   "cell_type": "markdown",
   "metadata": {},
   "source": [
    "Mirrored U - > D : increment"
   ]
  },
  {
   "cell_type": "code",
   "execution_count": null,
   "metadata": {},
   "outputs": [],
   "source": [
    "# n = 4\n",
    "# i = 1 \n",
    "# while i <= n:\n",
    "#     j = 1\n",
    "#     while j <= n :\n",
    "#         if j <= n - i:\n",
    "#             print(\" \",end=\"\")\n",
    "#         else:\n",
    "#             print(\"*\",end=\"\")\n",
    "#         j = j + 1\n",
    "#     print()\n",
    "#     i = i + 1\n",
    "#for loop\n",
    "n = 4\n",
    "for i in range(n+1,0,-1):\n",
    "    for j in range (0,i - 1):\n",
    "        print(\"*\",end=\" \")\n",
    "    print()"
   ]
  },
  {
   "cell_type": "markdown",
   "metadata": {},
   "source": [
    "Mirrored U - > D : decrement"
   ]
  },
  {
   "cell_type": "code",
   "execution_count": null,
   "metadata": {},
   "outputs": [],
   "source": [
    "n = 4 \n",
    "for i in range (n,0,-1):\n",
    "    print((n-i)*\" \" + i * \"*\")"
   ]
  },
  {
   "cell_type": "markdown",
   "metadata": {},
   "source": [
    "pyramid"
   ]
  },
  {
   "cell_type": "code",
   "execution_count": null,
   "metadata": {},
   "outputs": [],
   "source": [
    "n = 4 \n",
    "for i in range (n+1):\n",
    "    print((n-i)*\" \" + i * \" *\")"
   ]
  },
  {
   "cell_type": "markdown",
   "metadata": {},
   "source": [
    "inverted pyramid"
   ]
  },
  {
   "cell_type": "code",
   "execution_count": null,
   "metadata": {},
   "outputs": [],
   "source": [
    "n = 4 \n",
    "for i in range (n,0,-1):\n",
    "    print((n-i)*\" \" +     i * \" *\")"
   ]
  },
  {
   "cell_type": "markdown",
   "metadata": {},
   "source": [
    "pascal's triangle"
   ]
  },
  {
   "cell_type": "code",
   "execution_count": null,
   "metadata": {},
   "outputs": [],
   "source": [
    "n = 5\n",
    "for i in range(0, n):\n",
    "    for j in range(0, i + 1):\n",
    "        print(\"*\", end=' ')\n",
    "    print() \n",
    "for i in range(n, 0, -1):\n",
    "    for j in range(0, i - 1):\n",
    "        print(\"*\", end=' ')\n",
    "    print()\n"
   ]
  },
  {
   "cell_type": "markdown",
   "metadata": {},
   "source": [
    "(hand-made)hour glass ~= HOUR GLASS"
   ]
  },
  {
   "cell_type": "code",
   "execution_count": null,
   "metadata": {},
   "outputs": [],
   "source": [
    "n = 5\n",
    "for i in range(n,-1,-1):\n",
    "    print((n-i)*\" \" + i *\"* \")\n",
    "print(\"    *  \") \n",
    "for i in range(0,n+1):\n",
    "    print((n-i)*\" \" + i *\"* \")"
   ]
  }
 ],
 "metadata": {
  "kernelspec": {
   "display_name": "Python 3.10.7 64-bit (microsoft store)",
   "language": "python",
   "name": "python3"
  },
  "language_info": {
   "codemirror_mode": {
    "name": "ipython",
    "version": 3
   },
   "file_extension": ".py",
   "mimetype": "text/x-python",
   "name": "python",
   "nbconvert_exporter": "python",
   "pygments_lexer": "ipython3",
   "version": "3.10.7"
  },
  "orig_nbformat": 4,
  "vscode": {
   "interpreter": {
    "hash": "84fd2673a0f847bf80637898000f9b4175f2ffd476d5f31b41a838c2acdb5b76"
   }
  }
 },
 "nbformat": 4,
 "nbformat_minor": 2
}
